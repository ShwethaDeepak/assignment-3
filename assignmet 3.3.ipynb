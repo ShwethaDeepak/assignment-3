{
 "cells": [
  {
   "cell_type": "code",
   "execution_count": 3,
   "metadata": {},
   "outputs": [
    {
     "name": "stdout",
     "output_type": "stream",
     "text": [
      "[4, 2, 6, 11]\n",
      "programming\n"
     ]
    }
   ],
   "source": [
    "alist = [\"this\", \"is\", \"python\", \"programming\"]\n",
    "\n",
    "def longestword():\n",
    "    length = [len(i) for i in alist]\n",
    "    print(length) # getting the length of the elements of alist in the length list\n",
    "    index = length.index(max(length))\n",
    "    return alist[index]\n",
    "    \n",
    "word = longestword()\n",
    "print(word)\n",
    "        "
   ]
  },
  {
   "cell_type": "code",
   "execution_count": null,
   "metadata": {
    "collapsed": true
   },
   "outputs": [],
   "source": []
  },
  {
   "cell_type": "code",
   "execution_count": null,
   "metadata": {
    "collapsed": true
   },
   "outputs": [],
   "source": []
  }
 ],
 "metadata": {
  "kernelspec": {
   "display_name": "Python 3",
   "language": "python",
   "name": "python3"
  },
  "language_info": {
   "codemirror_mode": {
    "name": "ipython",
    "version": 3
   },
   "file_extension": ".py",
   "mimetype": "text/x-python",
   "name": "python",
   "nbconvert_exporter": "python",
   "pygments_lexer": "ipython3",
   "version": "3.6.3"
  }
 },
 "nbformat": 4,
 "nbformat_minor": 2
}
